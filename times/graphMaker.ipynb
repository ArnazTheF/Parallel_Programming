{
 "cells": [
  {
   "cell_type": "code",
   "execution_count": null,
   "metadata": {},
   "outputs": [],
   "source": [
    "import csv\n",
    "import os\n",
    "\n",
    "def process_csv(directory_path):\n",
    "    \n",
    "    final_array = []\n",
    "\n",
    "    csv_files = [file for file in os.listdir(directory_path) if file.endswith('.csv')]\n",
    "\n",
    "    for csv_file in csv_files:\n",
    "        file_path = os.path.join(directory_path, csv_file)\n",
    "\n",
    "        with open(file_path, mode='r', newline='') as file:\n",
    "            reader = csv.reader(file)\n",
    "            \n",
    "            numbers = []\n",
    "            for row in reader:\n",
    "                if row: \n",
    "                    number = float(row[0])\n",
    "                    numbers.append(number)\n",
    "\n",
    "            numbers.remove(max(numbers))\n",
    "            numbers.remove(min(numbers))\n",
    "\n",
    "            average = sum(numbers) / len(numbers)\n",
    "\n",
    "            final_array.append(average)\n",
    "\n",
    "\n",
    "    return final_array\n",
    "\n"
   ]
  },
  {
   "cell_type": "code",
   "execution_count": null,
   "metadata": {},
   "outputs": [],
   "source": [
    "# 1 задание, 20000\n",
    "threads = [1, 2, 4, 7, 8, 16, 20, 40]\n",
    "times = process_csv('20000first')\n",
    "print(times)"
   ]
  },
  {
   "cell_type": "code",
   "execution_count": null,
   "metadata": {},
   "outputs": [],
   "source": [
    "# 1 задание, 40000\n",
    "threads = [1, 2, 4, 7, 8, 16, 20, 40]"
   ]
  },
  {
   "cell_type": "code",
   "execution_count": null,
   "metadata": {},
   "outputs": [],
   "source": [
    "# 2 задание\n",
    "threads = [1, 2, 4, 7, 8, 16, 20, 40]"
   ]
  },
  {
   "cell_type": "code",
   "execution_count": null,
   "metadata": {},
   "outputs": [],
   "source": [
    "# 3 задание, 1 вариант\n",
    "threads = [1, 2, 4, 6, 8, 10, 12, 14, 16, 20]"
   ]
  },
  {
   "cell_type": "code",
   "execution_count": null,
   "metadata": {},
   "outputs": [],
   "source": [
    "# 3 задание, 2 вариант\n",
    "threads = [1, 2, 4, 6, 8, 10, 12, 14, 16, 20]"
   ]
  }
 ],
 "metadata": {
  "language_info": {
   "name": "python"
  }
 },
 "nbformat": 4,
 "nbformat_minor": 2
}
